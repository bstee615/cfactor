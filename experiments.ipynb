{
    "cells": [
        {
            "cell_type": "code",
            "execution_count": 4,
            "source": [
                "import import_ipynb\n",
                "import importlib\n",
                "import transformations\n",
                "importlib.reload(transformations)"
            ],
            "outputs": [
                {
                    "output_type": "stream",
                    "name": "stdout",
                    "text": [
                        "importing Jupyter notebook from transformations.ipynb\n",
                        "importing Jupyter notebook from joern.ipynb\n"
                    ]
                },
                {
                    "output_type": "execute_result",
                    "data": {
                        "text/plain": [
                            "<module 'transformations' from 'transformations.ipynb'>"
                        ]
                    },
                    "metadata": {},
                    "execution_count": 4
                }
            ],
            "metadata": {}
        },
        {
            "cell_type": "code",
            "execution_count": 5,
            "source": [
                "from pathlib import Path\n",
                "import difflib\n",
                "import random\n",
                "random.seed(0)"
            ],
            "outputs": [],
            "metadata": {}
        },
        {
            "cell_type": "code",
            "execution_count": 7,
            "source": [
                "c_file = Path('tests/testbed2/testbed2.c')\n",
                "transforms = [\n",
                "    transformations.insert_noop,\n",
                "    transformations.switch_exchange,\n",
                "    transformations.loop_exchange,\n",
                "    transformations.rename_variable,\n",
                "    transformations.permute_stmt,\n",
                "]\n",
                "picker = random.choice\n",
                "num_iterations = 3\n",
                "new_c_file = transformations.c2c(c_file, transforms, picker, num_iterations)\n",
                "new_c_file = transformations.reformat(c_file, new_c_file)\n",
                "new_c_file = Path(new_c_file)\n",
                "diff = list(difflib.unified_diff(c_file.open().readlines(), new_c_file.open().readlines()))\n",
                "print(''.join(diff))"
            ],
            "outputs": [
                {
                    "output_type": "stream",
                    "name": "stdout",
                    "text": [
                        "--- \n",
                        "+++ \n",
                        "@@ -48,10 +48,10 @@\n",
                        "         y = 3;\n",
                        "         break;\n",
                        "         case 'c':\n",
                        "-        y --;\n",
                        "-        z = 3;\n",
                        "-        z += 4;\n",
                        "-        break;\n",
                        "+            z += 4;\n",
                        "+            z = 3;\n",
                        "+            y--;\n",
                        "+            break;\n",
                        "         default:\n",
                        "         x = \"1\";\n",
                        "         y ++;\n",
                        "@@ -64,8 +64,10 @@\n",
                        " int looptest()\n",
                        " {\n",
                        "     int x = 0;\n",
                        "-    for (int i = 0; i < 10; i ++) {\n",
                        "+    int i = 0;\n",
                        "+    while (i < 10) {\n",
                        "         x += 1;\n",
                        "+        i++;\n",
                        "     }\n",
                        "     return x;\n",
                        " }\n",
                        "@@ -73,13 +75,13 @@\n",
                        " void\n",
                        " test(char *str)\n",
                        " {\n",
                        "-\tint fd;\n",
                        "+    int saims;\n",
                        " \n",
                        "-\tif(chroot(DIR) < 0)\t\t\t/* BAD */\n",
                        "-\t\treturn;\n",
                        "-\tfd = open(FILE, O_RDONLY);\t\t/* BAD */\n",
                        "-\tif(fd >= 0)\n",
                        "-\t\tclose(fd);\n",
                        "+    if (chroot(DIR) < 0) /* BAD */\n",
                        "+        return;\n",
                        "+    saims = open(FILE, O_RDONLY); /* BAD */\n",
                        "+    if (saims >= 0)\n",
                        "+        close(saims);\n",
                        " }\n",
                        " \n",
                        " int\n",
                        "\n"
                    ]
                }
            ],
            "metadata": {}
        },
        {
            "cell_type": "code",
            "execution_count": null,
            "source": [],
            "outputs": [],
            "metadata": {}
        }
    ],
    "metadata": {
        "orig_nbformat": 4,
        "language_info": {
            "name": "python"
        }
    },
    "nbformat": 4,
    "nbformat_minor": 2
}