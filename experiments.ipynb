{
 "cells": [
  {
   "cell_type": "markdown",
   "metadata": {},
   "source": [
    "# Generating refactored corpus\n",
    "Modify the synthetic benchmarks to generate a corpus of refactored programs.\n",
    "Generate 1 refactored program for each benchmark version."
   ]
  },
  {
   "cell_type": "code",
   "execution_count": 9,
   "metadata": {},
   "outputs": [
    {
     "name": "stdout",
     "output_type": "stream",
     "text": []
    },
    {
     "name": "stdout",
     "output_type": "stream",
     "text": []
    },
    {
     "name": "stdout",
     "output_type": "stream",
     "text": []
    },
    {
     "name": "stdout",
     "output_type": "stream",
     "text": []
    },
    {
     "name": "stdout",
     "output_type": "stream",
     "text": []
    },
    {
     "name": "stdout",
     "output_type": "stream",
     "text": []
    },
    {
     "name": "stdout",
     "output_type": "stream",
     "text": []
    },
    {
     "name": "stdout",
     "output_type": "stream",
     "text": []
    },
    {
     "name": "stdout",
     "output_type": "stream",
     "text": []
    },
    {
     "name": "stdout",
     "output_type": "stream",
     "text": []
    },
    {
     "name": "stdout",
     "output_type": "stream",
     "text": []
    },
    {
     "name": "stdout",
     "output_type": "stream",
     "text": []
    },
    {
     "name": "stdout",
     "output_type": "stream",
     "text": []
    },
    {
     "name": "stdout",
     "output_type": "stream",
     "text": []
    },
    {
     "name": "stdout",
     "output_type": "stream",
     "text": []
    },
    {
     "name": "stdout",
     "output_type": "stream",
     "text": []
    },
    {
     "name": "stdout",
     "output_type": "stream",
     "text": []
    },
    {
     "name": "stdout",
     "output_type": "stream",
     "text": []
    },
    {
     "name": "stdout",
     "output_type": "stream",
     "text": []
    },
    {
     "name": "stdout",
     "output_type": "stream",
     "text": []
    },
    {
     "name": "stdout",
     "output_type": "stream",
     "text": []
    },
    {
     "name": "stdout",
     "output_type": "stream",
     "text": []
    },
    {
     "name": "stdout",
     "output_type": "stream",
     "text": []
    },
    {
     "name": "stdout",
     "output_type": "stream",
     "text": []
    },
    {
     "name": "stdout",
     "output_type": "stream",
     "text": []
    },
    {
     "name": "stdout",
     "output_type": "stream",
     "text": []
    },
    {
     "name": "stdout",
     "output_type": "stream",
     "text": []
    },
    {
     "name": "stdout",
     "output_type": "stream",
     "text": []
    },
    {
     "name": "stdout",
     "output_type": "stream",
     "text": []
    },
    {
     "name": "stdout",
     "output_type": "stream",
     "text": []
    },
    {
     "name": "stdout",
     "output_type": "stream",
     "text": []
    },
    {
     "name": "stdout",
     "output_type": "stream",
     "text": []
    },
    {
     "name": "stdout",
     "output_type": "stream",
     "text": [
      "\u001b[1m============================= test session starts ==============================\u001b[0m\n",
      "platform linux -- Python 3.7.4, pytest-5.2.1, py-1.8.0, pluggy-0.13.0\n",
      "rootdir: /mnt/Hydrogen_Volume/benjis/work/transform\n",
      "plugins: openfiles-0.4.0, remotedata-0.3.2, arraydiff-0.3, doctestplus-0.4.0, importnb-0.7.0, anyio-3.2.1\n",
      "\u001b[1mcollecting ... \u001b[0mLoaded (['insert_noop', 'loop_exchange', 'permute_stmt', 'rename_variable', 'switch_exchange'])\n",
      "collected 5 items                                                              \u001b[0m\u001b[1m\n",
      "\n",
      "refactorings/test_refactorings.py \u001b[32m.\u001b[0m\u001b[32m.\u001b[0m\u001b[32m.\u001b[0m\u001b[32m.\u001b[0m\u001b[32m.\u001b[0m\n",
      "\n",
      "\u001b[32m\u001b[1m============================== 5 passed in 8.42s ===============================\u001b[0m\n"
     ]
    }
   ],
   "source": [
    "!pytest refactorings/ -s"
   ]
  },
  {
   "cell_type": "code",
   "execution_count": 10,
   "metadata": {
    "tags": []
   },
   "outputs": [
    {
     "name": "stderr",
     "output_type": "stream",
     "text": [
      "Loaded (['insert_noop', 'loop_exchange', 'permute_stmt', 'rename_variable', 'switch_exchange'])\n"
     ]
    },
    {
     "data": {
      "text/plain": [
       "<module 'refactorings' from '/mnt/Hydrogen_Volume/benjis/work/transform/refactorings/__init__.py'>"
      ]
     },
     "execution_count": 10,
     "metadata": {},
     "output_type": "execute_result"
    }
   ],
   "source": [
    "import refactorings as transformations\n",
    "import importlib\n",
    "importlib.reload(transformations)"
   ]
  },
  {
   "cell_type": "code",
   "execution_count": 11,
   "metadata": {},
   "outputs": [],
   "source": [
    "from pathlib import Path\n",
    "import difflib\n",
    "import random\n",
    "from lxml import etree as et\n",
    "import pandas as pd\n",
    "import shutil\n",
    "import subprocess\n",
    "import random\n",
    "import copy\n",
    "import traceback\n",
    "import datetime"
   ]
  },
  {
   "cell_type": "code",
   "execution_count": 12,
   "metadata": {},
   "outputs": [
    {
     "name": "stdout",
     "output_type": "stream",
     "text": [
      "Applied insert_noop\n",
      "Applied switch_exchange\n",
      "Applied loop_exchange\n",
      "Applied rename_variable\n",
      "Applied permute_stmt\n",
      "c2c/testbed/testbed.c\n"
     ]
    }
   ],
   "source": [
    "def reformat(old_lines, new_file):\n",
    "    import difflib\n",
    "    differ = difflib.Differ()\n",
    "    with open(new_file) as f:\n",
    "        new_lines = f.readlines()\n",
    "    diffs = differ.compare(old_lines, new_lines)\n",
    "    r = []\n",
    "    line_nums = []\n",
    "    lineno = 0\n",
    "    for line in diffs:\n",
    "        if line[0] in (' ', '+'):\n",
    "            lineno += 1\n",
    "        if line[0] == '+':\n",
    "            if len(r) == 0 or r[-1] == lineno-1:\n",
    "                r.append(lineno)\n",
    "            else:\n",
    "                line_nums.append(r)\n",
    "                r = [lineno]\n",
    "    line_nums.append(r)\n",
    "    if len(line_nums) == 0:\n",
    "        return old_lines\n",
    "    lines = []\n",
    "    for r in line_nums:\n",
    "        if len(r) == 0:\n",
    "            break\n",
    "        if len(r) == 1:\n",
    "            r = [r[0], r[0]]\n",
    "        lines.append(f'--lines={r[0]}:{r[-1]}')\n",
    "    style='-style=\"{BasedOnStyle: llvm, IndentWidth: 4}\"'\n",
    "    proc = subprocess.run(f'clang-format {\" \".join(lines)} {new_file} -i {style}', shell=True, capture_output=True)\n",
    "    if proc.returncode != 0:\n",
    "        print(proc.stderr.decode())\n",
    "    return new_file\n",
    "    \n",
    "def c2c(project, c_filename, transforms, picker, num_iterations):\n",
    "    \"\"\"Do C source-to-source translation\"\"\"\n",
    "    transforms = copy.deepcopy(transforms)\n",
    "    transform_filename = c_filename.parent / (c_filename.stem + '.transforms.txt')\n",
    "    tmp_dir = Path('c2c')\n",
    "    tmp_dir.mkdir(exist_ok=True)\n",
    "    tmp_project = tmp_dir / project.name\n",
    "    if tmp_project.exists():\n",
    "        shutil.rmtree(tmp_project)\n",
    "    shutil.copytree(project, tmp_project)\n",
    "    tmp_c_filename = tmp_project / c_filename.relative_to(project)\n",
    "    shutil.copy(c_filename, tmp_c_filename)\n",
    "    info = {\"project\": tmp_c_filename.parent}\n",
    "\n",
    "    transforms_applied = []\n",
    "    def log_transforms_applied():\n",
    "        \"\"\"Log after each transform, for debugging in case the procedure is errored.\"\"\"\n",
    "        with open(transform_filename, 'w') as f:\n",
    "            for t in transforms_applied:\n",
    "                f.write(f'{t.__name__}\\n')\n",
    "\n",
    "    # Apply num_iterations transforms, chosen randomly\n",
    "    # i = 0\n",
    "    # while i < num_iterations:\n",
    "    for i in range(len(transforms)):\n",
    "        if len(transforms) == 0:\n",
    "            print('Quitting early, ran out of transforms')\n",
    "            break\n",
    "        # t = random.choice(transforms)\n",
    "        t = transforms[0]\n",
    "        try:\n",
    "            if t == transformations.switch_exchange:\n",
    "                with open(tmp_c_filename) as f:\n",
    "                    old_lines = f.readlines()\n",
    "\n",
    "            new_lines = t(tmp_c_filename, picker=picker, info=info)\n",
    "            if new_lines == None:\n",
    "                print(f'Could not apply {t.__name__}.')\n",
    "                transforms.remove(t)\n",
    "                continue\n",
    "            with open(tmp_c_filename, 'w') as f:\n",
    "                f.writelines(new_lines)\n",
    "            i += 1\n",
    "            print('Applied', t.__name__)\n",
    "            transforms.remove(t)\n",
    "            transforms_applied.append(t)\n",
    "            log_transforms_applied()\n",
    "\n",
    "            if t == transformations.switch_exchange:\n",
    "                tmp_c_filename = reformat(old_lines, tmp_c_filename)\n",
    "        except Exception as e:\n",
    "            print(f'Error applying {t.__name__}: {e}. Stack trace written to errors.log.')\n",
    "            with open('errors.log', 'a') as f:\n",
    "                print(f'***Exception {project} {c_filename} {t.__name__} ({datetime.datetime.now()})***', e, file=f)\n",
    "                print(traceback.format_exc(), file=f)\n",
    "            transforms.remove(t)\n",
    "    return Path(tmp_c_filename)\n",
    "\n",
    "if __name__ == '__main__':\n",
    "    c_file = Path('tests/testbed/testbed.c')\n",
    "    new_filename = c2c(c_file.parent, c_file, [\n",
    "        transformations.insert_noop,\n",
    "        transformations.switch_exchange,\n",
    "        transformations.loop_exchange,\n",
    "        transformations.rename_variable,\n",
    "        transformations.permute_stmt,\n",
    "    ], lambda a: a[0], 5)\n",
    "    print(new_filename)"
   ]
  },
  {
   "cell_type": "markdown",
   "metadata": {},
   "source": [
    "## Begin experiment\n",
    "\n",
    "Subject benchmarks:\n",
    "- ABM\n",
    "- C Test Suite\n",
    "\n",
    "Hyperparameters:\n",
    "- random seed\n",
    "- num_iterations: Number of transformations to do\n",
    "- transforms:\n"
   ]
  },
  {
   "cell_type": "code",
   "execution_count": 14,
   "metadata": {},
   "outputs": [
    {
     "name": "stderr",
     "output_type": "stream",
     "text": [
      "Loaded (['insert_noop', 'loop_exchange', 'permute_stmt', 'rename_variable', 'switch_exchange'])\n"
     ]
    },
    {
     "data": {
      "application/vnd.jupyter.widget-view+json": {
       "model_id": "0f2b25609edd4c0a9609a33177730948",
       "version_major": 2,
       "version_minor": 0
      },
      "text/plain": [
       "HBox(children=(IntProgress(value=0, description='abm', max=25, style=ProgressStyle(description_width='initial'…"
      ]
     },
     "metadata": {},
     "output_type": "display_data"
    },
    {
     "name": "stdout",
     "output_type": "stream",
     "text": []
    },
    {
     "name": "stdout",
     "output_type": "stream",
     "text": [
      "\n"
     ]
    },
    {
     "data": {
      "application/vnd.jupyter.widget-view+json": {
       "model_id": "b8efad991bb147559002ec0ff8655326",
       "version_major": 2,
       "version_minor": 0
      },
      "text/plain": [
       "HBox(children=(IntProgress(value=0, description='ctestsuite', max=87, style=ProgressStyle(description_width='i…"
      ]
     },
     "metadata": {},
     "output_type": "display_data"
    },
    {
     "name": "stdout",
     "output_type": "stream",
     "text": []
    },
    {
     "name": "stdout",
     "output_type": "stream",
     "text": [
      "\n"
     ]
    }
   ],
   "source": [
    "from contextlib import redirect_stdout\n",
    "from tqdm import tqdm_notebook\n",
    "from collections import defaultdict\n",
    "importlib.reload(transformations)\n",
    "\n",
    "# Experiment parameters\n",
    "def picker(collection):\n",
    "    assert len(collection) > 0, 'Collection is empty'\n",
    "    return random.choice(collection)\n",
    "num_iterations = None\n",
    "transforms = [\n",
    "    transformations.loop_exchange,\n",
    "    transformations.switch_exchange,\n",
    "    transformations.permute_stmt,\n",
    "    transformations.rename_variable,\n",
    "    transformations.insert_noop,\n",
    "]\n",
    "def run_exp(project, c_file):\n",
    "    c_file = Path(c_file)\n",
    "    return c2c(project, c_file, transforms=transforms, num_iterations=num_iterations, picker=picker)\n",
    "\n",
    "# This file contains all the buggy versions from the synthetic benchmarks with the format \"project-version\".\n",
    "# One sample per line.\n",
    "df = pd.read_csv('logs/synthetic-samples.csv', dtype=str)\n",
    "# df = pd.read_csv('failed-crlf-real.csv', dtype=str)\n",
    "samples = list(zip(df[\"project\"], df[\"version\"]))\n",
    "tests = Path('tests')\n",
    "all_projects = [tests / p / v for p,v in samples]\n",
    "samples_by_project = defaultdict(list)\n",
    "for p, v in samples:\n",
    "    samples_by_project[p].append(tests / p / v)\n",
    "\n",
    "logfile = Path('log.txt')\n",
    "if logfile.exists():\n",
    "    logfile.unlink()\n",
    "if Path('errors.log').exists():\n",
    "    Path('errors.log').unlink()\n",
    "\n",
    "def store_file(old, new):\n",
    "    shutil.copy(tmp_c_file, new_c_file)\n",
    "    diff = list(difflib.unified_diff(c_file.open().readlines(), new_c_file.open().readlines(), fromfile=c_file.name, tofile=c_file.name))\n",
    "    with open(str(c_file) + '.diff', 'w') as f:\n",
    "        f.write(''.join(diff))\n",
    "\n",
    "def get_file(project):\n",
    "    c_files = list(project.glob('*.c'))\n",
    "    c_files = [c for c in c_files if not c.name.endswith('.formatted.c') and not c.name.endswith('.new.c')]\n",
    "    assert len(c_files) >= 1, f'No C files found in {project}'\n",
    "\n",
    "    if len(c_files) == 1:\n",
    "        c_file = c_files[0]\n",
    "    elif len(c_files) > 1:\n",
    "        for fpath in c_files:\n",
    "            with fpath.open() as f:\n",
    "                text = f.read()\n",
    "            if '/* BAD */' in text or '/* FLAW */' in text:\n",
    "                c_file = fpath\n",
    "    return c_file\n",
    "\n",
    "# import pandas as pd\n",
    "# failed_df = pd.read_csv('logs/failed.csv', dtype=str)\n",
    "\n",
    "# for project in [p for p in all_projects if '575' in str(p)]:\n",
    "for s, projects in samples_by_project.items():\n",
    "    # projects = [p for p in projects if s == 'ctestsuite' and p.name == '111']\n",
    "    # projects = [p for p in projects if any(s == row[\"project\"] and p.name == row[\"version\"] for i, row in failed_df.iterrows())]\n",
    "    for project in tqdm_notebook(projects, desc=s):\n",
    "        assert project.exists()\n",
    "        random.seed(0)\n",
    "        c_file = get_file(project)\n",
    "        with open(logfile, 'a') as f:\n",
    "            with redirect_stdout(f):\n",
    "                print(project)\n",
    "                tmp_c_file = run_exp(project, c_file)\n",
    "        new_c_file = Path(str(c_file) + '.reformat')\n",
    "        store_file(c_file, tmp_c_file)"
   ]
  },
  {
   "cell_type": "code",
   "execution_count": 18,
   "metadata": {},
   "outputs": [],
   "source": [
    "import pandas as pd\n",
    "import difflib\n",
    "\n",
    "all_transform_names = sorted([t.__name__ for t in transforms])\n",
    "\n",
    "with open('logs/stats.csv', 'w') as csv_f:\n",
    "    print(','.join(('project', 'version', *all_transform_names, 'lines changed')), file=csv_f)\n",
    "\n",
    "    tests = Path('tests')\n",
    "    df = pd.read_csv('logs/synthetic-samples.csv', dtype=str)\n",
    "    for i, row in df.iterrows():\n",
    "        # Get files and check they exist\n",
    "        try:\n",
    "            home = tests / row[\"project\"] / str(row[\"version\"])\n",
    "            transforms_file = next(home.glob('*.transforms.txt'))\n",
    "            old_file = next(transforms_file.parent.glob('*.c.reformat'))\n",
    "            new_file = old_file.parent / old_file.stem\n",
    "            assert transforms_file.exists()\n",
    "            assert old_file.exists()\n",
    "            assert new_file.exists()\n",
    "        except:\n",
    "            print('Error', row[\"project\"], row[\"version\"])\n",
    "            raise\n",
    "\n",
    "        # Collect which transforms were applied\n",
    "        with open(transforms_file) as f:\n",
    "            transforms_applied = set(f.read().splitlines())\n",
    "        was_applied = [t in transforms_applied for t in all_transform_names]\n",
    "\n",
    "        # Collect number of changed lines\n",
    "        differences = sum(1 for d in difflib.ndiff(old_file.open().readlines(), new_file.open().readlines()) if d[0] in ('+', '-'))\n",
    "\n",
    "        print(','.join((row[\"project\"], str(row[\"version\"]), *('TRUE' if a else 'FALSE' for a in was_applied), str(differences))), file=csv_f)"
   ]
  },
  {
   "cell_type": "code",
   "execution_count": 19,
   "metadata": {},
   "outputs": [
    {
     "data": {
      "application/vnd.jupyter.widget-view+json": {
       "model_id": "3d4527fdd65a4faf86ba13186dde659d",
       "version_major": 2,
       "version_minor": 0
      },
      "text/plain": [
       "HBox(children=(IntProgress(value=0, max=112), HTML(value='')))"
      ]
     },
     "metadata": {},
     "output_type": "display_data"
    },
    {
     "name": "stdout",
     "output_type": "stream",
     "text": []
    },
    {
     "name": "stdout",
     "output_type": "stream",
     "text": [
      "\n",
      "4 versions didn't build\n",
      "1 versions failed after refactoring\n"
     ]
    }
   ],
   "source": [
    "import subprocess\n",
    "import pandas as pd\n",
    "from pathlib import Path\n",
    "import tqdm\n",
    "import shutil\n",
    "\n",
    "df = pd.read_csv('logs/synthetic-samples.csv', dtype=str)\n",
    "# df = pd.read_csv('failed.csv', dtype=str)\n",
    "tests = Path('tests')\n",
    "exclude = []\n",
    "failed = []\n",
    "for i, row in tqdm.tqdm_notebook(list(df.iterrows())):\n",
    "    project, version = row[\"project\"], row[\"version\"]\n",
    "    code_dir = tests / project / version\n",
    "    assert code_dir.exists()\n",
    "\n",
    "    refactored = next(code_dir.glob('*.c.reformat'))\n",
    "    original = refactored.parent / refactored.stem\n",
    "    backup = refactored.parent / (refactored.stem + '.back')\n",
    "    assert refactored.exists(), refactored\n",
    "    assert original.exists(), original\n",
    "    assert backup.exists(), backup\n",
    "\n",
    "    # Check return code\n",
    "    proc = subprocess.run('make clean', cwd=str(code_dir), shell=True)\n",
    "    proc = subprocess.run('make', cwd=str(code_dir), capture_output=True, shell=True)\n",
    "    if proc.returncode != 0:\n",
    "        exclude.append((project, version, proc.stderr.decode()))\n",
    "        continue\n",
    "    \n",
    "    try:\n",
    "        shutil.copy(refactored, original)\n",
    "        original.touch()\n",
    "        proc = subprocess.run('make clean', cwd=str(code_dir), shell=True)\n",
    "        proc = subprocess.run('make', cwd=str(code_dir), capture_output=True, shell=True)\n",
    "        if proc.returncode != 0:\n",
    "            failed.append((project, version, proc.stderr.decode()))\n",
    "    finally:\n",
    "        shutil.copy(backup, original)\n",
    "\n",
    "# install mysql-devel and pam-devel first.\n",
    "# Some projects in ctestsuite won't build.\n",
    "print(len(exclude), 'versions didn\\'t build')\n",
    "with open('logs/exclude.csv', 'w') as f:\n",
    "    f.write(f'project,version\\n')\n",
    "    for project, version, e in exclude:\n",
    "        f.write(f'{project},{version}\\n')\n",
    "with open('logs/exclude.txt', 'w') as f:\n",
    "    for project, version, e in exclude:\n",
    "        f.write(f'***tests/{project}/{version}***\\n')\n",
    "        f.write(f'{e}\\n')\n",
    "\n",
    "print(len(failed), 'versions failed after refactoring')\n",
    "with open('logs/failed.csv', 'w') as f:\n",
    "    f.write(f'project,version\\n')\n",
    "    for project, version, e in failed:\n",
    "        f.write(f'{project},{version}\\n')\n",
    "with open('logs/failed.log', 'w') as f:\n",
    "    for project, version, e in failed:\n",
    "        f.write(f'***tests/{project}/{version}***\\n')\n",
    "        f.write(f'{e}\\n')"
   ]
  },
  {
   "cell_type": "code",
   "execution_count": null,
   "metadata": {},
   "outputs": [],
   "source": [
    "# Save CRLF files\n",
    "from pathlib import Path\n",
    "with open('failed-crlf.txt') as f:\n",
    "    lines = f.readlines()\n",
    "with open('failed-crlf-real.csv', 'w') as csv_f:\n",
    "    with open('failed-crlf-real.txt', 'w') as f:\n",
    "        csv_f.write('project,version\\n')\n",
    "        for l in lines:\n",
    "            version = l.split('/')[1]\n",
    "            filename = l.split('/')[-1].strip()\n",
    "            if int(version) >= 550:\n",
    "                project = 'abm'\n",
    "            else:\n",
    "                project = 'ctestsuite'\n",
    "            c_file = Path('tests') / project / version / filename\n",
    "            # print(c_file)\n",
    "            # assert c_file.exists()\n",
    "            f.write(f'{c_file}\\n')\n",
    "            csv_f.write(f'{project},{version}\\n')"
   ]
  },
  {
   "cell_type": "markdown",
   "metadata": {},
   "source": [
    "## Test the code\n",
    "This is an example for how to use c2clib"
   ]
  },
  {
   "cell_type": "code",
   "execution_count": null,
   "metadata": {},
   "outputs": [
    {
     "name": "stdout",
     "output_type": "stream",
     "text": [
      "Applied insert_noop\n",
      "--- \n",
      "+++ \n",
      "@@ -94,8 +94,8 @@\n",
      " \n",
      "     int s = switchtest(argv[2][0]);\n",
      "     int refinisher = 123;\n",
      "-int l = looptest();\n",
      "+    int l = looptest();\n",
      " \n",
      "-\treturn s + l;\n",
      "+    return s + l;\n",
      " }\n",
      " \n",
      "\n",
      "Applied switch_exchange\n",
      "--- \n",
      "+++ \n",
      "@@ -35,36 +35,22 @@\n",
      "     char *x;\n",
      "     int y = 1;\n",
      "     int z = 0;\n",
      "-    \n",
      "-    if (a\n",
      "- =='z'\n",
      "-||a\n",
      "- =='a'\n",
      "-||a\n",
      "- =='b'\n",
      "-)\n",
      "-    {\n",
      "+\n",
      "+    if (a == 'z' || a == 'a' || a == 'b') {\n",
      "         y = 10;\n",
      "         if (y == 10 && y > 4 && x == 5) {\n",
      "             x = \"5\";\n",
      "             break;\n",
      "         }\n",
      "         y = 3;\n",
      "-}\n",
      "-    else if (a\n",
      "- =='c'\n",
      "-)\n",
      "-    {\n",
      "+    } else if (a == 'c') {\n",
      "         y --;\n",
      "         z = 3;\n",
      "         z += 4;\n",
      "-}\n",
      "-    else \n",
      "-    {\n",
      "+    } else {\n",
      "         x = \"1\";\n",
      "         y ++;\n",
      "         z = 55;\n",
      "-        \n",
      "     }\n",
      "     return strlen(x) * y + z;\n",
      " }\n",
      "\n",
      "Applied loop_exchange\n",
      "--- \n",
      "+++ \n",
      "@@ -65,11 +65,10 @@\n",
      " {\n",
      "     int x = 0;\n",
      "     int i = 0;\n",
      "-while (i < 10\n",
      "-){\n",
      "+    while (i < 10) {\n",
      "         x += 1;\n",
      "-    i ++;\n",
      "-}\n",
      "+        i++;\n",
      "+    }\n",
      "     return x;\n",
      " }\n",
      " \n",
      "\n",
      "Applied rename_variable\n",
      "--- \n",
      "+++ \n",
      "@@ -73,13 +73,13 @@\n",
      " void\n",
      " test(char *str)\n",
      " {\n",
      "-\tint gutbucket;\n",
      "+    int gutbucket;\n",
      " \n",
      "-\tif(chroot(DIR) < 0)\t\t\t/* BAD */\n",
      "-\t\treturn;\n",
      "-\tgutbucket = open(FILE, O_RDONLY);\t\t/* BAD */\n",
      "-\tif(gutbucket >= 0)\n",
      "-\t\tclose(gutbucket);\n",
      "+    if (chroot(DIR) < 0) /* BAD */\n",
      "+        return;\n",
      "+    gutbucket = open(FILE, O_RDONLY); /* BAD */\n",
      "+    if (gutbucket >= 0)\n",
      "+        close(gutbucket);\n",
      " }\n",
      " \n",
      " int\n",
      "\n",
      "Applied permute_stmt\n",
      "--- \n",
      "+++ \n",
      "@@ -54,8 +54,8 @@\n",
      "         break;\n",
      "         default:\n",
      "         y ++;\n",
      "-x = \"1\";\n",
      "-z = 55;\n",
      "+        x = \"1\";\n",
      "+        z = 55;\n",
      "         break;\n",
      "     }\n",
      "     return strlen(x) * y + z;\n",
      "\n"
     ]
    }
   ],
   "source": [
    "project = Path('tests/testbed2')\n",
    "c_file = project / 'testbed2.c'\n",
    "transforms = [\n",
    "    insert_noop,\n",
    "    switch_exchange,\n",
    "    loop_exchange,\n",
    "    rename_variable,\n",
    "    permute_stmt,\n",
    "]\n",
    "for t in transforms:\n",
    "    new_c_file = run('tests/testbed2', c_file, [t], 1, random.choice)\n",
    "    diff = list(difflib.unified_diff(c_file.open().readlines(), new_c_file.open().readlines()))\n",
    "    # print(t.__name__)\n",
    "    print(''.join(diff))"
   ]
  }
 ],
 "metadata": {
  "kernelspec": {
   "display_name": "Python 3.7 (XPython)",
   "language": "python",
   "name": "xpython"
  },
  "language_info": {
   "file_extension": ".py",
   "mimetype": "text/x-python",
   "name": "python",
   "version": "3.7.10"
  }
 },
 "nbformat": 4,
 "nbformat_minor": 4
}
