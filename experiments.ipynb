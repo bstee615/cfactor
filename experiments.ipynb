{
 "cells": [
  {
   "cell_type": "markdown",
   "source": [
    "# Generating refactored corpus\n",
    "Modify the synthetic benchmarks to generate a corpus of refactored programs.\n",
    "Generate 1 refactored program for each benchmark version."
   ],
   "metadata": {}
  },
  {
   "cell_type": "code",
   "execution_count": 2,
   "source": [
    "!python -m pytest refactorings/ -s"
   ],
   "outputs": [
    {
     "output_type": "stream",
     "name": "stdout",
     "text": [
      "\u001b[1m============================= test session starts ==============================\u001b[0m\n",
      "platform linux -- Python 3.8.5, pytest-6.1.2, py-1.9.0, pluggy-0.13.1\n",
      "rootdir: /home/benja/work/weile-lab/thesis/cfactor\n",
      "plugins: anyio-3.2.1\n",
      "\u001b[1mcollecting ... \u001b[0mLoaded (['insert_noop', 'loop_exchange', 'permute_stmt', 'rename_variable', 'switch_exchange'])\n",
      "collected 6 items                                                              \u001b[0m\n",
      "\n",
      "refactorings/test_refactorings.py \u001b[32m.\u001b[0m\u001b[32m.\u001b[0m\u001b[32m.\u001b[0m\u001b[32m.\u001b[0m\u001b[32m.\u001b[0mApplied insert_noop\n",
      "Applied switch_exchange\n",
      "Applied loop_exchange\n",
      "Applied rename_variable\n",
      "Applied permute_stmt\n",
      "\u001b[32m.\u001b[0m\n",
      "\n",
      "\u001b[32m============================== \u001b[32m\u001b[1m6 passed\u001b[0m\u001b[32m in 12.30s\u001b[0m\u001b[32m ==============================\u001b[0m\n"
     ]
    }
   ],
   "metadata": {}
  },
  {
   "cell_type": "code",
   "execution_count": 3,
   "source": [
    "%load_ext autoreload\n",
    "%autoreload 2"
   ],
   "outputs": [],
   "metadata": {}
  },
  {
   "cell_type": "code",
   "execution_count": 4,
   "source": [
    "import refactorings"
   ],
   "outputs": [
    {
     "output_type": "stream",
     "name": "stderr",
     "text": [
      "Loaded (['insert_noop', 'loop_exchange', 'permute_stmt', 'rename_variable', 'switch_exchange'])\n"
     ]
    }
   ],
   "metadata": {
    "tags": []
   }
  },
  {
   "cell_type": "code",
   "execution_count": 5,
   "source": [
    "from pathlib import Path\n",
    "import difflib\n",
    "import random\n",
    "import pandas as pd\n",
    "import shutil\n",
    "import subprocess\n",
    "import random"
   ],
   "outputs": [],
   "metadata": {}
  },
  {
   "cell_type": "markdown",
   "source": [
    "## Begin experiment\n",
    "\n",
    "Subject benchmarks:\n",
    "- ABM\n",
    "- C Test Suite\n",
    "\n",
    "Hyperparameters:\n",
    "- random seed\n",
    "- num_iterations: Number of transformations to do\n",
    "- transforms:\n"
   ],
   "metadata": {}
  },
  {
   "cell_type": "code",
   "execution_count": 14,
   "source": [
    "from contextlib import redirect_stdout\n",
    "from tqdm import tqdm_notebook\n",
    "from collections import defaultdict\n",
    "\n",
    "# Experiment parameters\n",
    "picker = refactorings.random_picker\n",
    "transforms = refactorings.all_refactorings\n",
    "\n",
    "factory = refactorings.TransformationsFactory(transforms, picker)\n",
    "\n",
    "def store_file(new, old):\n",
    "    shutil.copy(new, old)\n",
    "    diff = list(difflib.unified_diff(old.open().readlines(), new.open().readlines(), fromfile=c_file.name, tofile=c_file.name))\n",
    "    with open(str(c_file) + '.diff', 'w') as f:\n",
    "        f.write(''.join(diff))\n",
    "\n",
    "def get_file(project):\n",
    "    c_files = list(project.glob('**/*.c'))\n",
    "    c_files = [c for c in c_files if not c.name.endswith('.formatted.c') and not c.name.endswith('.new.c')]\n",
    "    assert len(c_files) >= 1, f'No C files found in {project}'\n",
    "\n",
    "    if len(c_files) == 1:\n",
    "        c_file = c_files[0]\n",
    "    elif len(c_files) > 1:\n",
    "        # print(c_files)\n",
    "        for fpath in c_files:\n",
    "            with fpath.open() as f:\n",
    "                text = f.read()\n",
    "            import re\n",
    "            if re.search(r'/\\*\\s*BAD\\s*\\*/', text) or re.search(r'/\\*\\s*FLAW\\s*\\*/', text):\n",
    "                c_file = fpath\n",
    "    return c_file\n",
    "\n",
    "# This file contains all the buggy versions from the synthetic benchmarks with the format \"project-version\".\n",
    "# One sample per line.\n",
    "# df = pd.read_csv('logs/synthetic-samples.csv', dtype=str)\n",
    "# df = pd.read_csv('logs/toyota.csv', dtype=str)\n",
    "df = pd.read_csv('logs/zitser.csv', dtype=str)\n",
    "# df = pd.read_csv('failed-crlf-real.csv', dtype=str)\n",
    "samples = list(zip(df[\"project\"], df[\"version\"]))\n",
    "tests = Path('tests')\n",
    "all_projects = [tests / p / v for p,v in samples]\n",
    "samples_by_project = defaultdict(list)\n",
    "for p, v in samples:\n",
    "    project = tests / p / v\n",
    "    assert project.exists()\n",
    "    if 'itc' in str(project):\n",
    "        for c_file in project.glob('**/*.c'):\n",
    "            samples_by_project[p].append((project,c_file))\n",
    "    else:\n",
    "        c_file = get_file(project)\n",
    "        samples_by_project[p].append((project,c_file))\n",
    "\n",
    "logfile = Path('log.txt')\n",
    "if logfile.exists():\n",
    "    logfile.unlink()\n",
    "if Path('errors.log').exists():\n",
    "    Path('errors.log').unlink()\n",
    "\n",
    "failed_df = pd.read_csv('logs/manual.csv', dtype=str)\n",
    "\n",
    "def get_exclude(bench_name, project, c_file):\n",
    "    \"\"\"Return the exclude pattern given a benchmark name, project directory and target C file.\"\"\"\n",
    "    # print(bench_name, project, c_file)\n",
    "    if bench_name == 'itc':\n",
    "        from shutil import ignore_patterns\n",
    "        srcdir = project / 'src'\n",
    "        srcfiles = list(str(f.relative_to(srcdir)) for f in srcdir.glob('*.c') if f.name != c_file.name)\n",
    "        # print(srcfiles)\n",
    "        return ignore_patterns(*srcfiles)\n",
    "    else:\n",
    "        return None\n",
    "\n",
    "# projects = [p for p in projects if s == 'ctestsuite' and p.name == '111']\n",
    "# projects = [p for p in projects if any(s == row[\"project\"] and p.name == row[\"version\"] for i, row in failed_df.iterrows())]\n",
    "print(f'Redirecting stdout to {logfile}')\n",
    "for benchmark_name, projects_and_files in samples_by_project.items():\n",
    "    for project, c_file in tqdm_notebook(projects_and_files, desc=b):\n",
    "        random.seed(0)\n",
    "        with open(logfile, 'a') as f:\n",
    "            with redirect_stdout(f):\n",
    "                exclude = get_exclude(benchmark_name, project, c_file)\n",
    "                shutil.copy(c_file, c_file.parent / (c_file.name + '.back'))\n",
    "                with factory.make_project(c_file, project, exclude) as project:\n",
    "                    print('***REFACTORING***', project, c_file)\n",
    "                    tmp_c_file = project.apply_all()\n",
    "                    new_c_file = Path(str(c_file) + '.reformat')\n",
    "                    store_file(tmp_c_file, c_file)"
   ],
   "outputs": [
    {
     "output_type": "stream",
     "name": "stderr",
     "text": [
      "Loaded (['insert_noop', 'loop_exchange', 'permute_stmt', 'rename_variable', 'switch_exchange'])\n"
     ]
    },
    {
     "output_type": "stream",
     "name": "stdout",
     "text": [
      "Redirecting stdout to log.txt\n"
     ]
    },
    {
     "output_type": "display_data",
     "data": {
      "text/plain": [
       "HBox(children=(IntProgress(value=0, description='zitser', max=14, style=ProgressStyle(description_width='initi…"
      ],
      "application/vnd.jupyter.widget-view+json": {
       "model_id": "7df3aa98d18548ea9697c0f182b91e3c",
       "version_major": 2,
       "version_minor": 0
      }
     },
     "metadata": {}
    },
    {
     "output_type": "stream",
     "name": "stdout",
     "text": [
      "\n"
     ]
    }
   ],
   "metadata": {}
  },
  {
   "cell_type": "code",
   "execution_count": 11,
   "source": [
    "import pandas as pd\n",
    "import difflib\n",
    "\n",
    "all_transform_names = sorted([t.__name__ for t in transforms])\n",
    "\n",
    "with open('logs/stats.csv', 'w') as csv_f:\n",
    "    print(','.join(('project', 'version', *all_transform_names, 'lines changed')), file=csv_f)\n",
    "\n",
    "    tests = Path('tests')\n",
    "    df = pd.read_csv('logs/synthetic-samples.csv', dtype=str)\n",
    "    for i, row in df.iterrows():\n",
    "        # Get files and check they exist\n",
    "        try:\n",
    "            home = tests / row[\"project\"] / str(row[\"version\"])\n",
    "            transforms_file = next(home.glob('*.transforms.txt'))\n",
    "            old_file = next(transforms_file.parent.glob('*.c.reformat'))\n",
    "            new_file = old_file.parent / old_file.stem\n",
    "            assert transforms_file.exists()\n",
    "            assert old_file.exists()\n",
    "            assert new_file.exists()\n",
    "        except:\n",
    "            print('Error', row[\"project\"], row[\"version\"])\n",
    "            raise\n",
    "\n",
    "        # Collect which transforms were applied\n",
    "        with open(transforms_file) as f:\n",
    "            transforms_applied = set(f.read().splitlines())\n",
    "        was_applied = [t in transforms_applied for t in all_transform_names]\n",
    "\n",
    "        # Collect number of changed lines\n",
    "        differences = sum(1 for d in difflib.ndiff(old_file.open().readlines(), new_file.open().readlines()) if d[0] in ('+', '-'))\n",
    "\n",
    "        print(','.join((row[\"project\"], str(row[\"version\"]), *('TRUE' if a else 'FALSE' for a in was_applied), str(differences))), file=csv_f)"
   ],
   "outputs": [],
   "metadata": {}
  },
  {
   "cell_type": "code",
   "execution_count": 20,
   "source": [
    "import subprocess\n",
    "import pandas as pd\n",
    "from pathlib import Path\n",
    "import tqdm\n",
    "import shutil\n",
    "\n",
    "# df = pd.read_csv('logs/synthetic-samples.csv', dtype=str)\n",
    "df = pd.read_csv('logs/zitser.csv', dtype=str)\n",
    "# df = pd.read_csv('manual.csv', dtype=str)\n",
    "tests = Path('tests')\n",
    "exclude = []\n",
    "failed = []\n",
    "for i, row in tqdm.tqdm_notebook(list(df.iterrows())):\n",
    "    project, version = row[\"project\"], row[\"version\"]\n",
    "    code_dir = tests / project / version\n",
    "    assert code_dir.exists()\n",
    "\n",
    "    refactored = next(code_dir.glob('*.c.reformat'))\n",
    "    original = refactored.parent / refactored.stem\n",
    "    backup = refactored.parent / (refactored.stem + '.back')\n",
    "    assert refactored.exists(), refactored\n",
    "    assert original.exists(), original\n",
    "    assert backup.exists(), backup\n",
    "    \n",
    "    makefile = refactored.parent / 'Makefile'\n",
    "    assert makefile.exists()\n",
    "    makefile_backup = refactored.parent / 'Makefile.okbad'\n",
    "    if not makefile_backup.exists():\n",
    "        shutil.copy2(makefile, makefile_backup)\n",
    "    with open(makefile) as f:\n",
    "        text = f.read()\n",
    "    import re\n",
    "    text = re.sub(r'(\\w+)-ok', r'\\1', text)\n",
    "    text = re.sub(r'(\\w+)-bad', r'\\1', text)\n",
    "    with open(makefile, 'w') as f:\n",
    "        f.write(text)\n",
    "\n",
    "    # Check return code\n",
    "    proc = subprocess.run('make clean', cwd=str(code_dir), shell=True)\n",
    "    proc = subprocess.run('make', cwd=str(code_dir), capture_output=True, shell=True)\n",
    "    if proc.returncode != 0:\n",
    "        exclude.append((project, version, proc.stderr.decode()))\n",
    "        continue\n",
    "    \n",
    "    try:\n",
    "        shutil.copy(refactored, original)\n",
    "        original.touch()\n",
    "        proc = subprocess.run('make clean', cwd=str(code_dir), shell=True)\n",
    "        proc = subprocess.run('make', cwd=str(code_dir), capture_output=True, shell=True)\n",
    "        if proc.returncode != 0:\n",
    "            failed.append((project, version, proc.stderr.decode()))\n",
    "    finally:\n",
    "        shutil.copy(backup, original)\n",
    "\n",
    "# install mysql-devel and pam-devel first.\n",
    "# Some projects in ctestsuite won't build.\n",
    "print(len(exclude), 'versions didn\\'t build')\n",
    "with open('logs/exclude.csv', 'w') as f:\n",
    "    f.write(f'project,version\\n')\n",
    "    for project, version, e in exclude:\n",
    "        f.write(f'{project},{version}\\n')\n",
    "with open('logs/exclude.txt', 'w') as f:\n",
    "    for project, version, e in exclude:\n",
    "        f.write(f'***tests/{project}/{version}***\\n')\n",
    "        f.write(f'{e}\\n')\n",
    "\n",
    "print(len(failed), 'versions failed after refactoring')\n",
    "with open('logs/failed.csv', 'w') as f:\n",
    "    f.write(f'project,version\\n')\n",
    "    for project, version, e in failed:\n",
    "        f.write(f'{project},{version}\\n')\n",
    "with open('logs/failed.log', 'w') as f:\n",
    "    for project, version, e in failed:\n",
    "        f.write(f'***tests/{project}/{version}***\\n')\n",
    "        f.write(f'{e}\\n')"
   ],
   "outputs": [
    {
     "output_type": "display_data",
     "data": {
      "text/plain": [
       "HBox(children=(IntProgress(value=0, max=14), HTML(value='')))"
      ],
      "application/vnd.jupyter.widget-view+json": {
       "model_id": "54d8c89a6cbd4eaaa104f4b7fcdff6a7",
       "version_major": 2,
       "version_minor": 0
      }
     },
     "metadata": {}
    },
    {
     "output_type": "stream",
     "name": "stdout",
     "text": [
      "\n",
      "1 versions didn't build\n",
      "1 versions failed after refactoring\n"
     ]
    }
   ],
   "metadata": {}
  },
  {
   "cell_type": "markdown",
   "source": [
    "To pack up refactorings, use `tar cf refactors.tar $(find itc -name '*.c.reformat' -o -name '*.c.diff' -o -name '*.transforms.txt')`."
   ],
   "metadata": {}
  },
  {
   "cell_type": "raw",
   "source": [
    "# Save CRLF files\n",
    "from pathlib import Path\n",
    "with open('failed-crlf.txt') as f:\n",
    "    lines = f.readlines()\n",
    "with open('failed-crlf-real.csv', 'w') as csv_f:\n",
    "    with open('failed-crlf-real.txt', 'w') as f:\n",
    "        csv_f.write('project,version\\n')\n",
    "        for l in lines:\n",
    "            version = l.split('/')[1]\n",
    "            filename = l.split('/')[-1].strip()\n",
    "            if int(version) >= 550:\n",
    "                project = 'abm'\n",
    "            else:\n",
    "                project = 'ctestsuite'\n",
    "            c_file = Path('tests') / project / version / filename\n",
    "            # print(c_file)\n",
    "            # assert c_file.exists()\n",
    "            f.write(f'{c_file}\\n')\n",
    "            csv_f.write(f'{project},{version}\\n')"
   ],
   "metadata": {}
  },
  {
   "cell_type": "markdown",
   "source": [
    "## Test the code\n",
    "This is an example for how to use c2clib"
   ],
   "metadata": {}
  },
  {
   "cell_type": "raw",
   "source": [
    "project = Path('tests/testbed2')\n",
    "c_file = project / 'testbed2.c'\n",
    "transforms = [\n",
    "    insert_noop,\n",
    "    switch_exchange,\n",
    "    loop_exchange,\n",
    "    rename_variable,\n",
    "    permute_stmt,\n",
    "]\n",
    "for t in transforms:\n",
    "    new_c_file = run('tests/testbed2', c_file, [t], 1, random.choice)\n",
    "    diff = list(difflib.unified_diff(c_file.open().readlines(), new_c_file.open().readlines()))\n",
    "    # print(t.__name__)\n",
    "    print(''.join(diff))"
   ],
   "metadata": {}
  }
 ],
 "metadata": {
  "kernelspec": {
   "name": "python3",
   "display_name": "Python 3.8.5 64-bit ('base': conda)"
  },
  "language_info": {
   "name": "python",
   "version": "3.8.5",
   "mimetype": "text/x-python",
   "codemirror_mode": {
    "name": "ipython",
    "version": 3
   },
   "pygments_lexer": "ipython3",
   "nbconvert_exporter": "python",
   "file_extension": ".py"
  },
  "interpreter": {
   "hash": "a535d873fe0e83797f6e6a2091476b53ca700b1c39e49c8cf317620b8a39cd7e"
  }
 },
 "nbformat": 4,
 "nbformat_minor": 4
}