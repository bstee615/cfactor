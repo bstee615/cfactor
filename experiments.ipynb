{
 "cells": [
  {
   "cell_type": "markdown",
   "source": [
    "# Generating refactored corpus\n",
    "Modify the synthetic benchmarks to generate a corpus of refactored programs.\n",
    "Generate 1 refactored program for each benchmark version."
   ],
   "metadata": {}
  },
  {
   "cell_type": "code",
   "execution_count": 1,
   "source": [
    "%load_ext autoreload\n",
    "%autoreload 2\n",
    "import refactorings\n",
    "import projectslib\n",
    "from pathlib import Path\n",
    "import difflib\n",
    "import random\n",
    "import shutil\n",
    "import subprocess\n",
    "import random"
   ],
   "outputs": [],
   "metadata": {}
  },
  {
   "cell_type": "markdown",
   "source": [
    "## Look for ground truth\n",
    "Ground truth means:\n",
    "1. Buggy and OK versions both have some flaw location matching with the meta-alerts in the DB\n",
    "2. Of the meta-alerts matched to flaw locations, buggy and OK should share conditions for at least 1 meta-alert."
   ],
   "metadata": {}
  },
  {
   "cell_type": "code",
   "execution_count": 40,
   "source": [
    "corebench_project_names = ['make', 'grep', 'coreutils', 'findutils']\n",
    "project_filter = []\n",
    "project_filter += ['abm']\n",
    "project_filter += ['ctestsuite']\n",
    "project_filter += ['zitser']\n",
    "project_filter += ['toyota']\n",
    "# project_filter += corebench_project_names\n",
    "projects = projectslib.get_projects(project_filter)\n",
    "len(projects)"
   ],
   "outputs": [
    {
     "output_type": "execute_result",
     "data": {
      "text/plain": [
       "127"
      ]
     },
     "metadata": {},
     "execution_count": 40
    }
   ],
   "metadata": {}
  },
  {
   "cell_type": "markdown",
   "source": [
    "## Begin experiment\n",
    "\n",
    "Subject benchmarks:\n",
    "- ABM\n",
    "- C Test Suite\n",
    "\n",
    "Hyperparameters:\n",
    "- random seed\n",
    "- num_iterations: Number of transformations to do\n",
    "- transforms:\n"
   ],
   "metadata": {}
  },
  {
   "cell_type": "code",
   "execution_count": 36,
   "source": [
    "from contextlib import redirect_stdout\n",
    "from tqdm import tqdm_notebook\n",
    "from pathlib import Path\n",
    "import pandas as pd\n",
    "import re\n",
    "from shutil import ignore_patterns\n",
    "import os\n",
    "\n",
    "# Experiment parameters\n",
    "picker = refactorings.random_picker\n",
    "transforms = refactorings.all_refactorings\n",
    "factory = refactorings.TransformationsFactory(transforms, picker)\n",
    "\n",
    "# Zonk existing log files\n",
    "logfile = Path('nb/log.txt')\n",
    "if logfile.exists():\n",
    "    logfile.unlink()\n",
    "errors_log = Path('errors.log')\n",
    "if errors_log.exists():\n",
    "    errors_log.unlink()\n",
    "\n",
    "\n",
    "def get_exclude(bench_name, project, c_file):\n",
    "    \"\"\"Return the exclude pattern given a benchmark name, project directory and target C file.\"\"\"\n",
    "    srcfiles = ['*.c.diff', '*.c.back', '*.c.refactor', '*.c.transforms']\n",
    "    if bench_name == 'toyota':\n",
    "        for f in project.glob('src/*.c'):\n",
    "            if f.name == 'main.c' or f.name == c_file.name:\n",
    "                continue\n",
    "            else:\n",
    "                srcfiles.append(f.name)\n",
    "    return ignore_patterns(*srcfiles)\n",
    "\n",
    "\n",
    "def proj_and_files(proj):\n",
    "    result = set()\n",
    "    for f, _ in proj.flaws:\n",
    "        result.add((proj, f))\n",
    "    return list(result)\n",
    "\n",
    "\n",
    "print(f'Redirecting stdout to {logfile}')\n",
    "for project_name in sorted(list(set(p.program for p in projects))):\n",
    "    projects_and_files = []\n",
    "    for p in projects:\n",
    "        if p.program == project_name:\n",
    "            result = set()\n",
    "            for f, _ in p.flaws:\n",
    "                result.add((p, f))\n",
    "            projects_and_files.extend(result)\n",
    "    projects_and_files = sorted(projects_and_files, key=lambda p: str(p[1]))\n",
    "    for proj, c_file in tqdm_notebook(projects_and_files, desc=project_name):\n",
    "        avoid = []\n",
    "        for f, lineno in proj.flaws:\n",
    "            if f == c_file:\n",
    "                avoid.append(lineno)\n",
    "        assert len(avoid) > 0\n",
    "        random.seed(0)\n",
    "        with open(logfile, 'a') as f:\n",
    "            with redirect_stdout(f):\n",
    "                exclude = get_exclude(proj.program, proj.buggy_path, c_file)\n",
    "                with factory.make_project(c_file, proj.buggy_path, exclude, avoid=avoid) as refactoring_project:\n",
    "                    print('***REFACTORING***', refactoring_project, c_file)\n",
    "                    tmp_c_file, transforms_applied = refactoring_project.apply_all(return_applied=True)\n",
    "                    new_c_file = Path(str(c_file) + '.refactor')\n",
    "                    shutil.copy(tmp_c_file, new_c_file)\n",
    "                    with open(c_file.parent / (c_file.name + '.transforms'), 'w') as f:\n",
    "                        f.write('\\n'.join(t.__name__ for t in transforms_applied))\n",
    "                    with open(c_file) as old_f, open(new_c_file) as new_f:\n",
    "                        diff = list(difflib.unified_diff(old_f.readlines(), new_f.readlines(), fromfile=c_file.name, tofile=c_file.name))\n",
    "                    with open(str(c_file) + '.diff', 'w') as f:\n",
    "                        f.write(''.join(diff))"
   ],
   "outputs": [
    {
     "output_type": "stream",
     "name": "stdout",
     "text": [
      "Redirecting stdout to log.txt\n"
     ]
    },
    {
     "output_type": "display_data",
     "data": {
      "text/plain": [
       "HBox(children=(IntProgress(value=0, description='toyota', max=46, style=ProgressStyle(description_width='initi…"
      ],
      "application/vnd.jupyter.widget-view+json": {
       "version_major": 2,
       "version_minor": 0,
       "model_id": "34f945a8bda149b79ad449883c165565"
      }
     },
     "metadata": {}
    },
    {
     "output_type": "stream",
     "name": "stdout",
     "text": [
      "\n"
     ]
    }
   ],
   "metadata": {}
  },
  {
   "cell_type": "code",
   "execution_count": 41,
   "source": [
    "import pandas as pd\n",
    "import difflib\n",
    "\n",
    "all_transform_names = sorted([t.__name__ for t in refactorings.all_refactorings])\n",
    "\n",
    "with open('nb/stats.csv', 'w') as csv_f:\n",
    "    print(','.join(('project', 'version', *all_transform_names, 'lines changed')), file=csv_f)\n",
    "    for proj in projects:\n",
    "        # Get files and check they exist\n",
    "        try:\n",
    "            transforms_file = next(proj.buggy_path.walk('*.c.transforms'))\n",
    "            new_file = transforms_file.with_suffix('.refactor')\n",
    "            old_file = new_file.parent / new_file.stem\n",
    "        except:\n",
    "            raise Exception(f'{proj.program}-{proj.buggy}')\n",
    "        assert transforms_file.exists()\n",
    "        assert new_file.exists(), new_file\n",
    "        assert old_file.exists(), old_file\n",
    "\n",
    "        # Collect which transforms were applied\n",
    "        with open(transforms_file) as f:\n",
    "            transforms_applied = set(f.read().splitlines())\n",
    "        was_applied = [t in transforms_applied for t in all_transform_names]\n",
    "\n",
    "        # Collect number of changed lines\n",
    "        differences = sum(1 for d in difflib.ndiff(old_file.open().readlines(), new_file.open().readlines()) if d[0] in ('+', '-'))\n",
    "\n",
    "        print(','.join((proj.program, proj.buggy, *('TRUE' if a else 'FALSE' for a in was_applied), str(differences))), file=csv_f)"
   ],
   "outputs": [],
   "metadata": {}
  },
  {
   "cell_type": "code",
   "execution_count": 39,
   "source": [
    "import subprocess\n",
    "import pandas as pd\n",
    "from pathlib import Path\n",
    "import tqdm.notebook as tqdm\n",
    "import shutil\n",
    "import re\n",
    "\n",
    "exclude = []\n",
    "failed = []\n",
    "pbar = tqdm.tqdm(projects)\n",
    "for proj in pbar:\n",
    "    project = proj.program\n",
    "    code_dir = proj.buggy_path\n",
    "    assert code_dir.exists()\n",
    "\n",
    "    # Replace refactored file\n",
    "    proj_files = {f for f, _ in proj.flaws}\n",
    "    proj_files = list(sorted(proj_files))\n",
    "    for original in proj_files:\n",
    "        pbar.set_postfix({'excluded': len(exclude), 'failed': len(failed), 'file': original})\n",
    "        refactored = original.with_suffix('.c.refactor')\n",
    "        backup = refactored.with_suffix('.back')\n",
    "        assert refactored.exists(), refactored\n",
    "        assert original.exists(), original\n",
    "        if not backup.exists():\n",
    "            shutil.copy2(original, backup)\n",
    "        assert backup.exists(), backup\n",
    "        \n",
    "        # Fix up the makefile which might reference the *-ok/*-bad filenames\n",
    "        makefile = refactored.parent / 'Makefile'\n",
    "        assert makefile.exists()\n",
    "        makefile_backup = refactored.parent / 'Makefile.okbad'\n",
    "        if makefile_backup.exists():\n",
    "            shutil.copy2(makefile_backup, makefile)\n",
    "        else:\n",
    "            shutil.copy2(makefile, makefile_backup)\n",
    "        with open(makefile) as f:\n",
    "            text = f.read()\n",
    "        text = re.sub(r'(\\w+)-ok', r'\\1', text)\n",
    "        text = re.sub(r'(\\w+)-bad', r'\\1', text)\n",
    "        if (proj.program, proj.buggy) in (('ctestsuite', '095'), ('ctestsuite', '097'), ('ctestsuite', '099'), ('ctestsuite', '187')):\n",
    "            text = text.replace('$(CC) $(CFLAGS) $(SRC)', '$(CC) $(CFLAGS) $(SRC) $(shell mysql_config --cflags --libs)')\n",
    "        if (proj.program, proj.buggy) in (('zitser', '287'), ('zitser', '289'), ('zitser', '295')):\n",
    "            text = text.replace('create\\n', './create\\n')\n",
    "        with open(makefile, 'w') as f:\n",
    "            f.write(text)\n",
    "\n",
    "        # Build and check\n",
    "        proc = subprocess.run('make clean', cwd=str(code_dir), capture_output=True, shell=True)\n",
    "        proc = subprocess.run('make', cwd=str(code_dir), capture_output=True, shell=True)\n",
    "        if proc.returncode != 0:\n",
    "            exclude.append((project, proj.buggy, proc.stderr.decode()))\n",
    "            continue\n",
    "        \n",
    "        try:\n",
    "            shutil.copy(refactored, original)\n",
    "            proc = subprocess.run('make clean', cwd=str(code_dir), capture_output=True, shell=True)\n",
    "            proc = subprocess.run('make', cwd=str(code_dir), capture_output=True, shell=True)\n",
    "            if proc.returncode != 0:\n",
    "                failed.append((project, proj.buggy, proc.stderr.decode()))\n",
    "        finally:\n",
    "            shutil.copy(backup, original)\n",
    "\n",
    "# install mysql-devel and pam-devel first.\n",
    "# Some projects in ctestsuite won't build.\n",
    "print(len(exclude), 'versions didn\\'t build')\n",
    "with open('nb/exclude.csv', 'w') as f:\n",
    "    f.write(f'project,version\\n')\n",
    "    for project, version, e in exclude:\n",
    "        f.write(f'{project},{version}\\n')\n",
    "with open('nb/exclude.log', 'w') as f:\n",
    "    for project, version, e in exclude:\n",
    "        f.write(f'***tests/{project}/{version}***\\n')\n",
    "        f.write(f'{e}\\n')\n",
    "\n",
    "print(len(failed), 'versions failed after refactoring')\n",
    "with open('nb/failed.csv', 'w') as f:\n",
    "    f.write(f'project,version\\n')\n",
    "    for project, version, e in failed:\n",
    "        f.write(f'{project},{version}\\n')\n",
    "with open('nb/failed.log', 'w') as f:\n",
    "    for project, version, e in failed:\n",
    "        f.write(f'***tests/{project}/{version}***\\n')\n",
    "        f.write(f'{e}\\n')"
   ],
   "outputs": [
    {
     "output_type": "display_data",
     "data": {
      "text/plain": [
       "HBox(children=(IntProgress(value=0, max=1), HTML(value='')))"
      ],
      "application/vnd.jupyter.widget-view+json": {
       "version_major": 2,
       "version_minor": 0,
       "model_id": "0b8ee09f98b64b27abbebbc1ec5aa3bb"
      }
     },
     "metadata": {}
    },
    {
     "output_type": "stream",
     "name": "stdout",
     "text": [
      "\n",
      "0 versions didn't build\n",
      "1 versions failed after refactoring\n"
     ]
    }
   ],
   "metadata": {}
  },
  {
   "cell_type": "markdown",
   "source": [
    "To pack up refactorings, use `tar cf refactors.tar $(find itc -name '*.c.reformat' -o -name '*.c.diff' -o -name '*.transforms.txt')`."
   ],
   "metadata": {}
  }
 ],
 "metadata": {
  "kernelspec": {
   "name": "python3",
   "display_name": "Python 3",
   "language": "python"
  },
  "interpreter": {
   "hash": "3fc56e3fab8c747237b055ef0e7d2321d1637d9af88e6fee51f2ecb6862cb686"
  },
  "language_info": {
   "name": "python",
   "version": "3.7.4",
   "mimetype": "text/x-python",
   "codemirror_mode": {
    "name": "ipython",
    "version": 3
   },
   "pygments_lexer": "ipython3",
   "nbconvert_exporter": "python",
   "file_extension": ".py"
  }
 },
 "nbformat": 4,
 "nbformat_minor": 4
}