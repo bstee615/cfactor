{
 "cells": [
  {
   "cell_type": "markdown",
   "metadata": {},
   "source": [
    "# Modifying AST with `pycparser`\n",
    "This is not suitable because pycparser destroys whitespace.n"
   ]
  },
  {
   "cell_type": "code",
   "execution_count": 46,
   "metadata": {},
   "outputs": [
    {
     "ename": "AttributeError",
     "evalue": "module 'pycparser' has no attribute 'c_generator'",
     "output_type": "error",
     "traceback": [
      "\u001b[0;31m---------------------------------------------------------------------------\u001b[0m",
      "\u001b[0;31mAttributeError\u001b[0m                            Traceback (most recent call last)",
      "\u001b[0;32m<ipython-input-46-5ebf71058f50>\u001b[0m in \u001b[0;36m<module>\u001b[0;34m\u001b[0m\n\u001b[1;32m     15\u001b[0m \u001b[0mfake_libc_arg\u001b[0m \u001b[0;34m=\u001b[0m \u001b[0;34m\"-I\"\u001b[0m \u001b[0;34m+\u001b[0m \u001b[0mpycparser_fake_libc\u001b[0m\u001b[0;34m.\u001b[0m\u001b[0mdirectory\u001b[0m\u001b[0;34m\u001b[0m\u001b[0;34m\u001b[0m\u001b[0m\n\u001b[1;32m     16\u001b[0m \u001b[0;34m\u001b[0m\u001b[0m\n\u001b[0;32m---> 17\u001b[0;31m \u001b[0mgenerator\u001b[0m \u001b[0;34m=\u001b[0m \u001b[0mpycparser\u001b[0m\u001b[0;34m.\u001b[0m\u001b[0mc_generator\u001b[0m\u001b[0;34m.\u001b[0m\u001b[0mCGenerator\u001b[0m\u001b[0;34m(\u001b[0m\u001b[0;34m)\u001b[0m\u001b[0;34m\u001b[0m\u001b[0;34m\u001b[0m\u001b[0m\n\u001b[0m\u001b[1;32m     18\u001b[0m \u001b[0;34m\u001b[0m\u001b[0m\n\u001b[1;32m     19\u001b[0m \u001b[0mast\u001b[0m \u001b[0;34m=\u001b[0m \u001b[0mpycparser\u001b[0m\u001b[0;34m.\u001b[0m\u001b[0mparse_file\u001b[0m\u001b[0;34m(\u001b[0m\u001b[0;34m'x42/c/X42.c'\u001b[0m\u001b[0;34m,\u001b[0m \u001b[0muse_cpp\u001b[0m\u001b[0;34m=\u001b[0m\u001b[0;32mTrue\u001b[0m\u001b[0;34m,\u001b[0m \u001b[0mcpp_args\u001b[0m\u001b[0;34m=\u001b[0m\u001b[0mfake_libc_arg\u001b[0m\u001b[0;34m)\u001b[0m\u001b[0;34m\u001b[0m\u001b[0;34m\u001b[0m\u001b[0m\n",
      "\u001b[0;31mAttributeError\u001b[0m: module 'pycparser' has no attribute 'c_generator'"
     ]
    }
   ],
   "source": [
    "#-----------------------------------------------------------------\n",
    "# pycparser: rewrite_ast.py\n",
    "#\n",
    "# Tiny example of rewriting a AST node\n",
    "#\n",
    "# Eli Bendersky [https://eli.thegreenplace.net/]\n",
    "# License: BSD\n",
    "#-----------------------------------------------------------------\n",
    "from __future__ import print_function\n",
    "\n",
    "import pycparser\n",
    "import os\n",
    "import pycparser_fake_libc\n",
    "\n",
    "fake_libc_arg = \"-I\" + pycparser_fake_libc.directory\n",
    "\n",
    "generator = pycparser.c_generator.CGenerator()\n",
    "\n",
    "ast = pycparser.parse_file('x42/c/X42.c', use_cpp=True, cpp_args=fake_libc_arg)\n",
    "print(\"Before:\")\n",
    "# ast.show(offset=2)\n",
    "\n",
    "def print_ast(ast):\n",
    "  text = generator.visit(ast)\n",
    "  print(text[text.find('typedef uint32_t xcb_visualid_t;'):])\n",
    "print_ast(ast)\n",
    "\n",
    "def recurse(node, fn):\n",
    "  fn(node)\n",
    "  for child_node in node.children():\n",
    "    recurse(node)\n",
    "\n",
    "for e in ast.ext:\n",
    "  if isinstance(e, pycparser.c_ast.FuncDef):\n",
    "    # e.show(offset=2)\n",
    "    def change_x_to_y_2(node):\n",
    "      if isinstance(node, pycparser.c_ast.Assignment) and node.lvalue.name == 'x':\n",
    "        assign.lvalue.name = \"y\"\n",
    "        assign.rvalue.value = 2\n",
    "\n",
    "print(\"After:\")\n",
    "# ast.show(offset=2)\n",
    "print_ast(ast)"
   ]
  },
  {
   "cell_type": "markdown",
   "metadata": {},
   "source": [
    "# Modifying AST with `libclang`\n",
    "`libclang doesn't support modifying AST directly.`"
   ]
  },
  {
   "cell_type": "code",
   "execution_count": null,
   "metadata": {},
   "outputs": [],
   "source": [
    "import os\n",
    "os.environ['LD_LIBRARY_PATH'] = '/home/benjis/work/transform/llvm-project-11.1.0.src/build/lib'"
   ]
  },
  {
   "cell_type": "code",
   "execution_count": null,
   "metadata": {},
   "outputs": [
    {
     "name": "stdout",
     "output_type": "stream",
     "text": [
      "Translation unit: chroot1.c\n"
     ]
    }
   ],
   "source": [
    "#!/usr/bin/env python\n",
    "\"\"\" Usage: call with <filename> <typename>\n",
    "\"\"\"\n",
    "\n",
    "import clang.cindex\n",
    "from clang.cindex import CursorKind\n",
    "\n",
    "clang.cindex.Config.set_library_file('llvm-project-11.1.0.src/build/lib/libclang.so')\n",
    "\n",
    "def get(node, l):\n",
    "    if l(node):\n",
    "        return node\n",
    "    for c in node.get_children():\n",
    "        result = get(c, l)\n",
    "        if result is not None:\n",
    "            return result\n",
    "    return None\n",
    "\n",
    "filename = 'chroot1.c'\n",
    "index = clang.cindex.Index.create()\n",
    "tu = index.parse(filename)\n",
    "print('Translation unit:', tu.spelling)\n",
    "test = get(tu.cursor, lambda n: n.kind == CursorKind.FUNCTION_DECL and n.spelling == 'test')"
   ]
  },
  {
   "cell_type": "code",
   "execution_count": null,
   "metadata": {},
   "outputs": [
    {
     "name": "stdout",
     "output_type": "stream",
     "text": [
      "fd\n",
      "fd\n",
      "fd\n",
      "fd\n"
     ]
    }
   ],
   "source": [
    "def get_variable_references(node, old_name):\n",
    "    collect = []\n",
    "    if node.kind == CursorKind.VAR_DECL or node.kind == CursorKind.DECL_REF_EXPR:\n",
    "        if node.spelling == old_name:\n",
    "            collect.append(node)\n",
    "    for c in node.get_children():\n",
    "        result = get_variable_references(c, old_name)\n",
    "        if result:\n",
    "            collect += result\n",
    "    return collect\n",
    "\n",
    "var_ref = get_variable_references(test, 'fd')\n",
    "for v in var_ref:\n",
    "    print(v.spelling)"
   ]
  },
  {
   "cell_type": "code",
   "execution_count": null,
   "metadata": {},
   "outputs": [
    {
     "name": "stdout",
     "output_type": "stream",
     "text": [
      "10\n"
     ]
    }
   ],
   "source": [
    "def print_internal(node, replacements, output, section):\n",
    "    for c in node.get_children():\n",
    "        print_node(c, replacements)\n",
    "\n",
    "def print_node(node, replacements, sections=''):\n",
    "    sections = (' ' * (node.extent.end.line - node.extent.start.line))\n",
    "    print(len(sections))\n",
    "print_node(test, [])"
   ]
  }
 ],
 "metadata": {
  "kernelspec": {
   "display_name": "Python 3",
   "language": "python",
   "name": "python3"
  },
  "language_info": {
   "codemirror_mode": {
    "name": "ipython",
    "version": 3
   },
   "file_extension": ".py",
   "mimetype": "text/x-python",
   "name": "python",
   "nbconvert_exporter": "python",
   "pygments_lexer": "ipython3",
   "version": "3.7.4"
  }
 },
 "nbformat": 4,
 "nbformat_minor": 2
}
