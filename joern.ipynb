{
 "cells": [
  {
   "cell_type": "markdown",
   "source": [
    "# Generate PDG with Joern\n",
    "Requirements: [joern](https://joern.io/) downloaded and installed at `joern-cli`.\n",
    "Latest version tested: [v1.1.180](https://github.com/joernio/joern/releases/tag/v1.1.180)"
   ],
   "metadata": {}
  },
  {
   "cell_type": "code",
   "execution_count": 1,
   "source": [
    "# Export control/data dependencies (nodes which are reachable in PDG)\n",
    "\n",
    "import networkx as nx\n",
    "from networkx.drawing import nx_pydot\n",
    "def load_reachable(project, function):\n",
    "    \"\"\"Load PDG and return the set of reachable nodes for every nodes\"\"\"\n",
    "    G = nx_pydot.read_dot(f'{project}/cpg/{function}.pdg.dot')\n",
    "    blacklist = [1000100]  # These are nodes which we shouldn't consider\n",
    "    reaches = {}  # k reaches all v\n",
    "    for source, sink_lengths in nx.all_pairs_shortest_path_length(G):\n",
    "        source = int(source)\n",
    "        if source not in blacklist:\n",
    "            reaches[source] = {int(s) for s, l in sink_lengths.items() if (s not in blacklist) and l > 0}\n",
    "    return reaches\n",
    "\n",
    "def load_dep(project, function):\n",
    "    \"\"\"Load control/data dependencies for every node\"\"\"\n",
    "    reaches = load_reachable(project, function)\n",
    "    reachable_by = {n:{source for source, sinks in reaches.items() if n in sinks} for n in reaches.keys()}\n",
    "    return reachable_by\n",
    "\n",
    "load_dep('tests/assign-test', 'main')[1000115]"
   ],
   "outputs": [
    {
     "output_type": "execute_result",
     "data": {
      "text/plain": [
       "{1000104, 1000107, 1000111}"
      ]
     },
     "metadata": {},
     "execution_count": 1
    }
   ],
   "metadata": {}
  },
  {
   "cell_type": "code",
   "execution_count": 6,
   "source": [
    "# Load CFG, intended to use for finding basic blocks. Not currently used.\n",
    "\n",
    "import networkx as nx\n",
    "from networkx.drawing import nx_pydot\n",
    "def load_cfg(project, function):\n",
    "    \"\"\"Load CFG. Index basic blocks.\"\"\"\n",
    "    G = nx_pydot.read_dot(f'{project}/cpg/{function}.cfg.dot')\n",
    "    # node instanceof ExpressionStmt && node.findAll(MethodCallExpr.class).size() == 0\n",
    "    q = []\n",
    "    visited = set()\n",
    "    q.append(list(G.nodes)[0])\n",
    "    blocks = []\n",
    "    b = []\n",
    "    while len(q) > 0:\n",
    "        u = q.pop(0)\n",
    "        n = list(G.neighbors(u))\n",
    "        if len(n) > 1:\n",
    "            blocks.append(b)\n",
    "            b = []\n",
    "        else:\n",
    "            b.append(u)\n",
    "        for v in n:\n",
    "            if v not in visited:\n",
    "                visited.add(u)\n",
    "                q.append(v)\n",
    "    \n",
    "    return blocks\n",
    "\n",
    "# load_cfg('tests/loop-test', 'main')"
   ],
   "outputs": [],
   "metadata": {}
  },
  {
   "cell_type": "code",
   "execution_count": 7,
   "source": [
    "# Load Joern AST nodes\n",
    "\n",
    "import json\n",
    "def load_ast(project, function):\n",
    "    \"\"\"Load Joern AST. It should subsume the PDG.\"\"\"\n",
    "    with open(f'{project}/cpg/{function}.ast.json') as f:\n",
    "        ast = json.load(f)\n",
    "    ast = {n[\"id\"]:n for n in ast}\n",
    "    return ast\n",
    "load_ast('tests/assign-test', 'main')[1000115]"
   ],
   "outputs": [
    {
     "output_type": "execute_result",
     "data": {
      "text/plain": [
       "{'dispatchType': 'STATIC_DISPATCH',\n",
       " 'name': '<operator>.assignment',\n",
       " 'signature': 'TODO',\n",
       " 'code': 'y = 2',\n",
       " 'typeFullName': '',\n",
       " 'columnNumber': 8,\n",
       " 'order': 1,\n",
       " 'methodFullName': '<operator>.assignment',\n",
       " '_label': 'CALL',\n",
       " 'argumentIndex': 1,\n",
       " 'lineNumber': 8,\n",
       " 'id': 1000115}"
      ]
     },
     "metadata": {},
     "execution_count": 7
    }
   ],
   "metadata": {}
  },
  {
   "cell_type": "code",
   "execution_count": 4,
   "source": [
    "# Load AST and PDG nodes, annotate AST nodes with dependencies from PDG. Filter to only the nodes that are in the PDG.\n",
    "# The end result is basically the PDG nodes with AST info (filename/lineno) added.\n",
    "\n",
    "import os\n",
    "\n",
    "def load_annotated_ast_nodes(project, function):\n",
    "    if not os.path.exists(f'{project}/cpg/{function}.ast.json') or not os.path.exists(f'{project}/cpg/{function}.pdg.dot'):\n",
    "        proc = subprocess.run(['bash', 'joern-util/dump.sh', project, function], stderr=subprocess.STDOUT, stdout=subprocess.PIPE)\n",
    "        if proc.returncode != 0:\n",
    "            print(f'Exit {proc.returncode}. Echoing process output:', proc.stdout.decode('utf-8'))\n",
    "    ast = load_ast(project, function)\n",
    "    rdef = load_dep(project, function)\n",
    "\n",
    "    # Check correctness\n",
    "    pdg_nodes = set(rdef.keys())\n",
    "    ast_nodes = {n[\"id\"] for n in ast.values()}\n",
    "    assert pdg_nodes.issubset(ast_nodes), pdg_nodes.difference(ast_nodes)\n",
    "\n",
    "    # Annotate AST with reaching definitions\n",
    "    annotated_ast = {}\n",
    "    for i, n in ast.items():\n",
    "        if i in rdef:\n",
    "            n[\"dependencies\"] = rdef[i]\n",
    "            annotated_ast[i] = n\n",
    "\n",
    "    return annotated_ast\n",
    "ast = load_annotated_ast_nodes('tests/assign-test', 'main')\n",
    "len(ast)\n",
    "# ast[1000115], ast[1000118]"
   ],
   "outputs": [
    {
     "output_type": "execute_result",
     "data": {
      "text/plain": [
       "10"
      ]
     },
     "metadata": {},
     "execution_count": 4
    }
   ],
   "metadata": {}
  },
  {
   "cell_type": "code",
   "execution_count": 5,
   "source": [
    "# Deprecated. Get the line number for one or multiple nodes.\n",
    "\n",
    "import subprocess\n",
    "def getNodeLineNumber(nodes):\n",
    "    args = 'joern-cli/joern --script joern-util/getMultipleNodesProperty.sc --params'.split()\n",
    "    args.append(f'project=assign-test,ids={\";\".join(str(n) for n in nodes)},property=LINE_NUMBER')\n",
    "    print(' '.join(args))\n",
    "    proc = subprocess.run(args, stdout=subprocess.PIPE, stderr=subprocess.STDOUT)\n",
    "    print(proc.stdout.decode('utf-8'))\n",
    "def getOneNodeLineNumber(node):\n",
    "    args = 'joern-cli/joern --script joern-util/getNodePropertySingle.sc --params'.split()\n",
    "    args.append(f'project=assign-test,id={node},property=LINE_NUMBER')\n",
    "    print(' '.join(args))\n",
    "    proc = subprocess.run(args, stdout=subprocess.PIPE, stderr=subprocess.STDOUT)\n",
    "    print(proc.stdout.decode('utf-8'))\n",
    "# getOneNodeLineNumber(1000107)"
   ],
   "outputs": [],
   "metadata": {}
  }
 ],
 "metadata": {
  "kernelspec": {
   "display_name": "Python 3",
   "language": "python",
   "name": "python3"
  },
  "language_info": {
   "codemirror_mode": {
    "name": "ipython",
    "version": 3
   },
   "file_extension": ".py",
   "mimetype": "text/x-python",
   "name": "python",
   "nbconvert_exporter": "python",
   "pygments_lexer": "ipython3",
   "version": "3.7.4"
  },
  "orig_nbformat": 4
 },
 "nbformat": 4,
 "nbformat_minor": 2
}