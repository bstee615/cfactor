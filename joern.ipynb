{
 "cells": [
  {
   "cell_type": "markdown",
   "source": [
    "# Generate PDG with Joern\n",
    "Requirements: [joern](https://joern.io/) downloaded and installed at `joern-cli`.\n",
    "Latest version tested: [v1.1.180](https://github.com/joernio/joern/releases/tag/v1.1.180)"
   ],
   "metadata": {}
  },
  {
   "cell_type": "code",
   "execution_count": 29,
   "source": [
    "# Export control/data dependencies (nodes which are reachable in PDG)\n",
    "\n",
    "import networkx as nx\n",
    "from networkx.drawing import nx_pydot\n",
    "def load_reachable(project, function):\n",
    "    \"\"\"Load PDG and return the set of reachable nodes for every nodes\"\"\"\n",
    "    G = nx_pydot.read_dot(f'{project}/cpg/{function}.pdg.dot')\n",
    "    blacklist = [int(sorted(G.nodes())[0])]  # These are nodes which we shouldn't consider\n",
    "    reaches = {}  # k reaches all v\n",
    "    for source, sink_lengths in nx.all_pairs_shortest_path_length(G):\n",
    "        source = int(source)\n",
    "        if source not in blacklist:\n",
    "            reachable = {int(s) for s, l in sink_lengths.items() if (s not in blacklist) and l > 0}\n",
    "            reaches[source] = reachable\n",
    "    return reaches\n",
    "\n",
    "def load_dep(project, function):\n",
    "    \"\"\"Load control/data dependencies for every node\"\"\"\n",
    "    reaches = load_reachable(project, function)\n",
    "    reachable_by = {n:{source for source, sinks in reaches.items() if n in sinks} for n in reaches.keys()}\n",
    "    return reachable_by\n",
    "\n",
    "if __name__ == '__main__':\n",
    "    # load_dep('tests/assign-test', 'main')[1000115]\n",
    "    print(load_reachable('tests/abm/557', 'main'))\n",
    "    print(load_dep('tests/abm/557', 'main'))"
   ],
   "outputs": [
    {
     "output_type": "stream",
     "name": "stdout",
     "text": [
      "{1000128: set(), 1000110: {1000128, 1000115, 1000119, 1000121, 1000124}, 1000111: {1000128, 1000124, 1000119}, 1000115: {1000128, 1000121, 1000124, 1000119}, 1000119: {1000128, 1000124}, 1000124: {1000128}, 1000126: {1000128}, 1000127: {1000128, 1000126}, 1000121: set()}\n",
      "{1000128: {1000110, 1000111, 1000115, 1000119, 1000124, 1000126, 1000127}, 1000110: set(), 1000111: set(), 1000115: {1000110}, 1000119: {1000115, 1000110, 1000111}, 1000124: {1000119, 1000115, 1000110, 1000111}, 1000126: {1000127}, 1000127: set(), 1000121: {1000115, 1000110}}\n"
     ]
    }
   ],
   "metadata": {}
  },
  {
   "cell_type": "code",
   "execution_count": 11,
   "source": [
    "# Load CFG, intended to use for finding basic blocks. Not currently used.\n",
    "\n",
    "import networkx as nx\n",
    "from networkx.drawing import nx_pydot\n",
    "def load_cfg(project, function):\n",
    "    \"\"\"Load CFG. Index basic blocks.\"\"\"\n",
    "    G = nx_pydot.read_dot(f'{project}/cpg/{function}.cfg.dot')\n",
    "    # node instanceof ExpressionStmt && node.findAll(MethodCallExpr.class).size() == 0\n",
    "    q = []\n",
    "    visited = set()\n",
    "    q.append(list(G.nodes)[0])\n",
    "    blocks = []\n",
    "    b = []\n",
    "    while len(q) > 0:\n",
    "        u = q.pop(0)\n",
    "        n = list(G.neighbors(u))\n",
    "        if len(n) > 1:\n",
    "            blocks.append(b)\n",
    "            b = []\n",
    "        else:\n",
    "            b.append(u)\n",
    "        for v in n:\n",
    "            if v not in visited:\n",
    "                visited.add(u)\n",
    "                q.append(v)\n",
    "    \n",
    "    return blocks\n",
    "\n",
    "if __name__ == '__main__':\n",
    "    load_cfg('tests/loop-test', 'main')"
   ],
   "outputs": [],
   "metadata": {}
  },
  {
   "cell_type": "code",
   "execution_count": 12,
   "source": [
    "# Load Joern AST nodes\n",
    "\n",
    "import json\n",
    "def load_ast(project, function):\n",
    "    \"\"\"Load Joern AST. It should subsume the PDG.\"\"\"\n",
    "    with open(f'{project}/cpg/{function}.ast.json') as f:\n",
    "        ast = json.load(f)\n",
    "    ast = {n[\"id\"]:n for n in ast}\n",
    "    return ast\n",
    "if __name__ == '__main__':\n",
    "    load_ast('tests/assign-test', 'main')[1000115]"
   ],
   "outputs": [],
   "metadata": {}
  },
  {
   "cell_type": "code",
   "execution_count": 17,
   "source": [
    "# Load AST and PDG nodes, annotate AST nodes with dependencies from PDG. Filter to only the nodes that are in the PDG.\n",
    "# The end result is basically the PDG nodes with AST info (filename/lineno) added.\n",
    "\n",
    "import subprocess\n",
    "\n",
    "def load_annotated_ast_nodes(project, function):\n",
    "    # NOTE: Rerun Joern every time so that code changes are refreshed\n",
    "    # if not os.path.exists(f'{project}/cpg/{function}.ast.json') or not os.path.exists(f'{project}/cpg/{function}.pdg.dot'):\n",
    "    proc = subprocess.run(['bash', 'joern-util/dump.sh', project, function], stderr=subprocess.STDOUT, stdout=subprocess.PIPE)\n",
    "    if proc.returncode != 0:\n",
    "        print(f'Exit {proc.returncode}. Echoing process output:', proc.stdout.decode('utf-8'))\n",
    "    ast = load_ast(project, function)\n",
    "    rdef = load_dep(project, function)\n",
    "\n",
    "    # Check correctness\n",
    "    pdg_nodes = set(rdef.keys())\n",
    "    ast_nodes = {n[\"id\"] for n in ast.values()}\n",
    "    assert pdg_nodes.issubset(ast_nodes), pdg_nodes.difference(ast_nodes)\n",
    "\n",
    "    # Annotate AST with reaching definitions\n",
    "    annotated_ast = {}\n",
    "    for i, n in ast.items():\n",
    "        if i in rdef:\n",
    "            n[\"dependencies\"] = rdef[i]\n",
    "            annotated_ast[i] = n\n",
    "\n",
    "    return annotated_ast\n",
    "if __name__ == '__main__':\n",
    "    # ast = load_annotated_ast_nodes('tests/assign-test', 'main')\n",
    "    # len(ast)\n",
    "    ast = load_annotated_ast_nodes('tests/abm/557', 'main')"
   ],
   "outputs": [],
   "metadata": {}
  },
  {
   "cell_type": "code",
   "execution_count": 19,
   "source": [
    "if __name__ == '__main__':\n",
    "    print(list(ast.keys()))\n",
    "    print(ast[1000124])"
   ],
   "outputs": [
    {
     "output_type": "stream",
     "name": "stdout",
     "text": [
      "[1000109, 1000110, 1000111, 1000115, 1000119, 1000121, 1000124, 1000126, 1000127, 1000128]\n",
      "{'dispatchType': 'STATIC_DISPATCH', 'name': 'test', 'signature': 'TODO', 'code': 'test(userstr)', 'typeFullName': '', 'columnNumber': 2, 'order': 2, 'methodFullName': 'test', '_label': 'CALL', 'argumentIndex': 2, 'lineNumber': 43, 'id': 1000124, 'dependencies': {1000109, 1000110, 1000111, 1000115, 1000119}}\n"
     ]
    }
   ],
   "metadata": {}
  },
  {
   "cell_type": "code",
   "execution_count": 16,
   "source": [
    "# Deprecated. Get the line number for one or multiple nodes.\n",
    "\n",
    "import subprocess\n",
    "def getNodeLineNumber(nodes):\n",
    "    args = 'joern-cli/joern --script joern-util/getMultipleNodesProperty.sc --params'.split()\n",
    "    args.append(f'project=assign-test,ids={\";\".join(str(n) for n in nodes)},property=LINE_NUMBER')\n",
    "    print(' '.join(args))\n",
    "    proc = subprocess.run(args, stdout=subprocess.PIPE, stderr=subprocess.STDOUT)\n",
    "    print(proc.stdout.decode('utf-8'))\n",
    "def getOneNodeLineNumber(node):\n",
    "    args = 'joern-cli/joern --script joern-util/getNodePropertySingle.sc --params'.split()\n",
    "    args.append(f'project=assign-test,id={node},property=LINE_NUMBER')\n",
    "    print(' '.join(args))\n",
    "    proc = subprocess.run(args, stdout=subprocess.PIPE, stderr=subprocess.STDOUT)\n",
    "    print(proc.stdout.decode('utf-8'))\n",
    "if __name__ == '__main__':\n",
    "    # getOneNodeLineNumber(1000107)\n",
    "    pass"
   ],
   "outputs": [],
   "metadata": {}
  },
  {
   "cell_type": "code",
   "execution_count": null,
   "source": [],
   "outputs": [],
   "metadata": {}
  }
 ],
 "metadata": {
  "kernelspec": {
   "display_name": "Python 3",
   "language": "python",
   "name": "python3"
  },
  "language_info": {
   "codemirror_mode": {
    "name": "ipython",
    "version": 3
   },
   "file_extension": ".py",
   "mimetype": "text/x-python",
   "name": "python",
   "nbconvert_exporter": "python",
   "pygments_lexer": "ipython3",
   "version": "3.7.4"
  },
  "orig_nbformat": 4
 },
 "nbformat": 4,
 "nbformat_minor": 2
}